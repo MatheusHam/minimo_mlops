{
 "cells": [
  {
   "cell_type": "code",
   "execution_count": 1,
   "metadata": {},
   "outputs": [],
   "source": [
    "import pandas as pd\n",
    "import numpy as np"
   ]
  },
  {
   "cell_type": "code",
   "execution_count": 12,
   "metadata": {},
   "outputs": [],
   "source": [
    "df = pd.read_csv(\"../assets/MiBolsillo.csv\", sep=\";\", encoding=\"latin1\")\n",
    "df.rename(columns={\" valor \": \"valor\"}, inplace=True)"
   ]
  },
  {
   "cell_type": "code",
   "execution_count": null,
   "metadata": {},
   "outputs": [],
   "source": [
    "df['valor'] = df['valor'].str.replace(\".\", \"\")\n",
    "df['valor'] = df['valor'].str.replace(\",\", \".\")\n",
    "df['valor'] = df['valor'].str.replace(\"-\", \"\")\n",
    "df['valor'] = df['valor'].str.replace(\" \", \"\")\n",
    "df['valor'].fillna(np.nan, inplace=True)\n",
    "df['valor'] = pd.to_numeric(df['valor'])"
   ]
  },
  {
   "cell_type": "code",
   "execution_count": 14,
   "metadata": {},
   "outputs": [
    {
     "data": {
      "text/plain": [
       "grupo_estabelecimento\n",
       "SERVIO           1782\n",
       "RESTAURANTE        872\n",
       "VAREJO             599\n",
       "SUPERMERCADOS      468\n",
       "VESTUARIO          236\n",
       "FARMACIAS          222\n",
       "POSTO DE GAS       199\n",
       "M.O.T.O.           191\n",
       "ARTIGOS ELETRO     129\n",
       "LOJA DE DEPART      80\n",
       "CIA AEREAS          38\n",
       "HOTEIS              24\n",
       "SEM RAMO            20\n",
       "HOSP E CLINICA      18\n",
       "MAT CONSTRUCAO      15\n",
       "MOVEIS E DECOR      15\n",
       "AUTO PEAS          14\n",
       "AGENCIA DE TUR      12\n",
       "TRANS FINANC        10\n",
       "JOALHERIA            6\n",
       "INEXISTENTE          4\n",
       "ALUG DE CARROS       1\n",
       "Name: count, dtype: int64"
      ]
     },
     "execution_count": 14,
     "metadata": {},
     "output_type": "execute_result"
    }
   ],
   "source": [
    "df[\"grupo_estabelecimento\"].value_counts()"
   ]
  },
  {
   "cell_type": "code",
   "execution_count": 15,
   "metadata": {},
   "outputs": [],
   "source": [
    "df['is_vital'] = df['grupo_estabelecimento'].apply(lambda x: 1 if x in ['SERVIO', 'SUPERMERCADOS', 'FARMACIAS', 'HOSP E CLINICA', 'TRANS FINANC'] else 0)\n"
   ]
  },
  {
   "cell_type": "code",
   "execution_count": 16,
   "metadata": {},
   "outputs": [
    {
     "data": {
      "text/plain": [
       "is_vital\n",
       "1    2500\n",
       "0    2455\n",
       "Name: count, dtype: int64"
      ]
     },
     "execution_count": 16,
     "metadata": {},
     "output_type": "execute_result"
    }
   ],
   "source": [
    "df['is_vital'].value_counts()"
   ]
  },
  {
   "cell_type": "code",
   "execution_count": 17,
   "metadata": {},
   "outputs": [],
   "source": [
    "df['data'] = pd.to_datetime(df['data'], format='%d.%m.%Y')"
   ]
  },
  {
   "cell_type": "code",
   "execution_count": 18,
   "metadata": {},
   "outputs": [],
   "source": [
    "df['limit_disp_percentage'] = (df['limite_disp']*100) / df['limite_total']\n",
    "df['limit_disp_percentage'] = df['limit_disp_percentage'].round().astype(int)"
   ]
  },
  {
   "cell_type": "code",
   "execution_count": 19,
   "metadata": {},
   "outputs": [],
   "source": [
    "df['is_revenge_spending'] = df.apply(lambda row: 1 if row['limit_disp_percentage'] < 20 and row['is_vital'] == 0 else 0, axis=1)\n"
   ]
  },
  {
   "cell_type": "code",
   "execution_count": 20,
   "metadata": {},
   "outputs": [
    {
     "data": {
      "text/plain": [
       "Index(['id', 'safra_abertura', 'cidade', 'estado', 'idade', 'sexo',\n",
       "       'limite_total', 'limite_disp', 'data', 'valor', 'grupo_estabelecimento',\n",
       "       'cidade_estabelecimento', 'pais_estabelecimento', 'is_vital',\n",
       "       'limit_disp_percentage', 'is_revenge_spending'],\n",
       "      dtype='object')"
      ]
     },
     "execution_count": 20,
     "metadata": {},
     "output_type": "execute_result"
    }
   ],
   "source": [
    "df.columns"
   ]
  },
  {
   "cell_type": "code",
   "execution_count": 21,
   "metadata": {},
   "outputs": [
    {
     "data": {
      "text/plain": [
       "is_revenge_spending\n",
       "0    4490\n",
       "1     465\n",
       "Name: count, dtype: int64"
      ]
     },
     "execution_count": 21,
     "metadata": {},
     "output_type": "execute_result"
    }
   ],
   "source": [
    "df['is_revenge_spending'].value_counts()"
   ]
  },
  {
   "cell_type": "code",
   "execution_count": 22,
   "metadata": {},
   "outputs": [],
   "source": [
    "df.to_csv(\"../assets/master_table.csv\", index=False, sep=\";\", encoding=\"latin1\")"
   ]
  }
 ],
 "metadata": {
  "kernelspec": {
   "display_name": "belvo",
   "language": "python",
   "name": "python3"
  },
  "language_info": {
   "codemirror_mode": {
    "name": "ipython",
    "version": 3
   },
   "file_extension": ".py",
   "mimetype": "text/x-python",
   "name": "python",
   "nbconvert_exporter": "python",
   "pygments_lexer": "ipython3",
   "version": "3.10.13"
  }
 },
 "nbformat": 4,
 "nbformat_minor": 2
}
